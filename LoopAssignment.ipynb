{
  "nbformat": 4,
  "nbformat_minor": 0,
  "metadata": {
    "colab": {
      "provenance": []
    },
    "kernelspec": {
      "name": "python3",
      "display_name": "Python 3"
    },
    "language_info": {
      "name": "python"
    }
  },
  "cells": [
    {
      "cell_type": "code",
      "execution_count": 2,
      "metadata": {
        "colab": {
          "base_uri": "https://localhost:8080/"
        },
        "id": "FtHr2JIC_Xi2",
        "outputId": "fa16d497-bc94-48b6-b93b-c08e596d7afd"
      },
      "outputs": [
        {
          "output_type": "stream",
          "name": "stdout",
          "text": [
            "1\n",
            "2\n",
            "3\n",
            "4\n",
            "5\n",
            "6\n",
            "7\n",
            "8\n",
            "9\n",
            "10\n",
            "11\n",
            "12\n",
            "13\n",
            "14\n",
            "15\n",
            "16\n",
            "17\n",
            "18\n",
            "19\n",
            "20\n"
          ]
        }
      ],
      "source": [
        "#1. Write a program to print all natural numbers from 1 to n. – using while loop\n",
        "for i in range(1, 21):\n",
        "    print(i)"
      ]
    },
    {
      "cell_type": "code",
      "source": [
        "# 2. Write a program to print all natural numbers in reverse (from n to 1). –using while loop\n",
        "for i in range(20, 0, -1):\n",
        "    print(i)"
      ],
      "metadata": {
        "colab": {
          "base_uri": "https://localhost:8080/"
        },
        "id": "6u3mcQBkASDL",
        "outputId": "c54c5d12-c17a-498a-b23b-815c18d60d73"
      },
      "execution_count": 3,
      "outputs": [
        {
          "output_type": "stream",
          "name": "stdout",
          "text": [
            "20\n",
            "19\n",
            "18\n",
            "17\n",
            "16\n",
            "15\n",
            "14\n",
            "13\n",
            "12\n",
            "11\n",
            "10\n",
            "9\n",
            "8\n",
            "7\n",
            "6\n",
            "5\n",
            "4\n",
            "3\n",
            "2\n",
            "1\n"
          ]
        }
      ]
    },
    {
      "cell_type": "code",
      "source": [
        "# 3. Write a program to print all alphabets from a to z. – using for loop\n",
        "\n"
      ],
      "metadata": {
        "id": "naZDdwPjBXAi"
      },
      "execution_count": 4,
      "outputs": []
    },
    {
      "cell_type": "code",
      "source": [
        "# 4. Write a program to print all even numbers between 1 to 100. – using for loop\n",
        "for i in range(1, 101):\n",
        "    if i % 2 == 0:\n",
        "        print(i)"
      ],
      "metadata": {
        "colab": {
          "base_uri": "https://localhost:8080/"
        },
        "id": "AOkpyku4By9o",
        "outputId": "06ec1630-10e2-4f4a-d44b-24ac5add8e05"
      },
      "execution_count": 5,
      "outputs": [
        {
          "output_type": "stream",
          "name": "stdout",
          "text": [
            "2\n",
            "4\n",
            "6\n",
            "8\n",
            "10\n",
            "12\n",
            "14\n",
            "16\n",
            "18\n",
            "20\n",
            "22\n",
            "24\n",
            "26\n",
            "28\n",
            "30\n",
            "32\n",
            "34\n",
            "36\n",
            "38\n",
            "40\n",
            "42\n",
            "44\n",
            "46\n",
            "48\n",
            "50\n",
            "52\n",
            "54\n",
            "56\n",
            "58\n",
            "60\n",
            "62\n",
            "64\n",
            "66\n",
            "68\n",
            "70\n",
            "72\n",
            "74\n",
            "76\n",
            "78\n",
            "80\n",
            "82\n",
            "84\n",
            "86\n",
            "88\n",
            "90\n",
            "92\n",
            "94\n",
            "96\n",
            "98\n",
            "100\n"
          ]
        }
      ]
    },
    {
      "cell_type": "code",
      "source": [
        "# 5. Write a program to find the sum of all odd numbers between 1 to n using for loop\n",
        "x = int(input(\"Enter a number: \"))\n",
        "y=0\n",
        "for i in range(1, x+1):\n",
        "    if(i%2!=0):\n",
        "        y+=i\n",
        "print(y)\n"
      ],
      "metadata": {
        "colab": {
          "base_uri": "https://localhost:8080/"
        },
        "id": "ypIwKIAbCQPj",
        "outputId": "0349a308-82e7-4d34-bf51-3530fffe13e3"
      },
      "execution_count": 8,
      "outputs": [
        {
          "output_type": "stream",
          "name": "stdout",
          "text": [
            "Enter a number: 45\n",
            "529\n"
          ]
        }
      ]
    },
    {
      "cell_type": "code",
      "source": [
        "# 6. Write a program to count the number of digits in a number using for loop\n",
        "x = int(input(\"Enter a number: \"))\n",
        "y=0\n",
        "for i in range(100):\n",
        "    if(x>0):\n",
        "        y+=x%10\n",
        "        x//= 10\n",
        "    else:\n",
        "        break\n",
        "print(i)"
      ],
      "metadata": {
        "colab": {
          "base_uri": "https://localhost:8080/"
        },
        "id": "rR9VrJC3DYn-",
        "outputId": "ec68d384-45d1-4cfa-debc-aae51bf39520"
      },
      "execution_count": 11,
      "outputs": [
        {
          "output_type": "stream",
          "name": "stdout",
          "text": [
            "Enter a number: 345\n",
            "3\n"
          ]
        }
      ]
    },
    {
      "cell_type": "code",
      "source": [
        "# 7. Write a program to calculate the sum of digits of a number.\n",
        "x=int(input(\"Enter a number: \"))\n",
        "y=0\n",
        "count=0\n",
        "for i in range(100):\n",
        "    if(x > 0):\n",
        "        y+=x%10\n",
        "        count+=1\n",
        "        x//=10\n",
        "    else:\n",
        "        break\n",
        "\n",
        "print(\"Total number of digits:\", count)\n",
        "print(y)\n"
      ],
      "metadata": {
        "colab": {
          "base_uri": "https://localhost:8080/"
        },
        "id": "P8sxhkEWD7fL",
        "outputId": "f3e7d09a-fc6a-4ee3-be0f-28d81710ce38"
      },
      "execution_count": 15,
      "outputs": [
        {
          "output_type": "stream",
          "name": "stdout",
          "text": [
            "Enter a number: 1234\n",
            "Total number of digits: 4\n",
            "10\n"
          ]
        }
      ]
    },
    {
      "cell_type": "code",
      "source": [
        "# 8. Write a program to find the first and last digit of a number.\n"
      ],
      "metadata": {
        "id": "RyAo8PW4Fg9m"
      },
      "execution_count": 17,
      "outputs": []
    },
    {
      "cell_type": "code",
      "source": [
        "# 9. Write a program to find the sum of first and last digit of a number.\n"
      ],
      "metadata": {
        "id": "AaKwbOP5HsKF"
      },
      "execution_count": 18,
      "outputs": []
    },
    {
      "cell_type": "code",
      "source": [
        "# 10.Write a program to enter a number and print its reverse.\n",
        "x=int(input(\"Enter a number: \"))\n",
        "y=0\n",
        "for i in range(100):\n",
        "    if (x>0):\n",
        "        i=x%10\n",
        "        y=y*10+i\n",
        "        x//= 10\n",
        "    else:\n",
        "        break\n",
        "print(\"Reversed number:\", y)"
      ],
      "metadata": {
        "colab": {
          "base_uri": "https://localhost:8080/"
        },
        "id": "EjjG6_h0Hyc8",
        "outputId": "dc4e963a-c70d-43dc-d626-6d947ec62bc6"
      },
      "execution_count": 28,
      "outputs": [
        {
          "output_type": "stream",
          "name": "stdout",
          "text": [
            "Enter a number: 21\n",
            "Reversed number: 12\n"
          ]
        }
      ]
    },
    {
      "cell_type": "code",
      "source": [],
      "metadata": {
        "id": "JAyk6n8bJMzo"
      },
      "execution_count": null,
      "outputs": []
    }
  ]
}