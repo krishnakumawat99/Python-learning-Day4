{
  "nbformat": 4,
  "nbformat_minor": 0,
  "metadata": {
    "colab": {
      "provenance": []
    },
    "kernelspec": {
      "name": "python3",
      "display_name": "Python 3"
    },
    "language_info": {
      "name": "python"
    }
  },
  "cells": [
    {
      "cell_type": "code",
      "execution_count": null,
      "metadata": {
        "id": "zAohqn5iHRUu",
        "colab": {
          "base_uri": "https://localhost:8080/"
        },
        "outputId": "8d485025-a950-4642-e991-8adf7fd61175"
      },
      "outputs": [
        {
          "output_type": "stream",
          "name": "stdout",
          "text": [
            "10754024\n"
          ]
        }
      ],
      "source": [
        "x=100\n",
        "print(id(x))"
      ]
    },
    {
      "cell_type": "code",
      "source": [
        "a=x\n",
        "print(id(x))"
      ],
      "metadata": {
        "colab": {
          "base_uri": "https://localhost:8080/"
        },
        "id": "nEkP1tfXod3P",
        "outputId": "3aa7de47-90fc-4213-936d-d2f99d2ef4e3"
      },
      "execution_count": null,
      "outputs": [
        {
          "output_type": "stream",
          "name": "stdout",
          "text": [
            "10754024\n"
          ]
        }
      ]
    },
    {
      "cell_type": "code",
      "source": [
        "age=18\n",
        "newage=age\n",
        "print(id(age), id(newage))"
      ],
      "metadata": {
        "colab": {
          "base_uri": "https://localhost:8080/"
        },
        "id": "osZwrCp7oiBE",
        "outputId": "e1151a09-1e94-4a61-84b6-67f0d4c80352"
      },
      "execution_count": null,
      "outputs": [
        {
          "output_type": "stream",
          "name": "stdout",
          "text": [
            "10751400 10751400\n"
          ]
        }
      ]
    },
    {
      "cell_type": "code",
      "source": [
        "x=90\n",
        "a=x\n",
        "print(id(x), id(a))\n",
        "x=12\n",
        "print(\"after\", id(x), id(a))"
      ],
      "metadata": {
        "colab": {
          "base_uri": "https://localhost:8080/"
        },
        "id": "kqHXW9Nuo6J2",
        "outputId": "7d40a016-78c2-46c0-86f9-a493feabba43"
      },
      "execution_count": null,
      "outputs": [
        {
          "output_type": "stream",
          "name": "stdout",
          "text": [
            "10753704 10753704\n",
            "after 10751208 10753704\n"
          ]
        }
      ]
    },
    {
      "cell_type": "code",
      "source": [
        "x=10\n",
        "a=10\n",
        "print(id(x), id(a))"
      ],
      "metadata": {
        "colab": {
          "base_uri": "https://localhost:8080/"
        },
        "id": "4gEdbHkHpgk8",
        "outputId": "2ce79de3-6755-47f5-9d9c-0dbcdfd182f3"
      },
      "execution_count": null,
      "outputs": [
        {
          "output_type": "stream",
          "name": "stdout",
          "text": [
            "10751144 10751144\n"
          ]
        }
      ]
    },
    {
      "cell_type": "code",
      "source": [
        "x=256\n",
        "a=256\n",
        "print(id(x), id(a))\n",
        "# same memory value"
      ],
      "metadata": {
        "colab": {
          "base_uri": "https://localhost:8080/"
        },
        "id": "voYC21zfql9N",
        "outputId": "f0d524ee-85ec-400f-96cd-a80663e2c19f"
      },
      "execution_count": null,
      "outputs": [
        {
          "output_type": "stream",
          "name": "stdout",
          "text": [
            "10759016 10759016\n"
          ]
        }
      ]
    },
    {
      "cell_type": "code",
      "source": [
        "x=257\n",
        "a=257\n",
        "print(id(x), id(a))\n",
        "# change the memory value"
      ],
      "metadata": {
        "colab": {
          "base_uri": "https://localhost:8080/"
        },
        "id": "thVlYqieqsbw",
        "outputId": "d7b39a94-2e3e-4b53-ba18-677d29bddf37"
      },
      "execution_count": null,
      "outputs": [
        {
          "output_type": "stream",
          "name": "stdout",
          "text": [
            "137093448801648 137093448801904\n"
          ]
        }
      ]
    },
    {
      "cell_type": "code",
      "source": [
        "#learn\n",
        "#datatype\n",
        "#operator\n",
        "#arithmetic, comparison, logical, assignment, membership, identity, slicing and indexing"
      ],
      "metadata": {
        "id": "W45qO1RcqwDq"
      },
      "execution_count": null,
      "outputs": []
    },
    {
      "cell_type": "code",
      "source": [
        "# today start topic\n",
        "# for loop\n",
        "# loops=> repeatitive task\n"
      ],
      "metadata": {
        "id": "qPtccKECriEp"
      },
      "execution_count": null,
      "outputs": []
    },
    {
      "cell_type": "code",
      "source": [
        "# for(i=0; i<condition; i++)\n",
        "# range(0,5)\n",
        "for i in range(0,5):\n",
        "  print(\"hey\", i)"
      ],
      "metadata": {
        "colab": {
          "base_uri": "https://localhost:8080/"
        },
        "id": "_Fh9AW2YrwRr",
        "outputId": "317bf2c9-ffe3-41a8-8793-74df5c71ee42"
      },
      "execution_count": null,
      "outputs": [
        {
          "output_type": "stream",
          "name": "stdout",
          "text": [
            "hey 0\n",
            "hey 1\n",
            "hey 2\n",
            "hey 3\n",
            "hey 4\n"
          ]
        }
      ]
    },
    {
      "cell_type": "code",
      "source": [
        "for i in range(2,5):\n",
        "  print(\"hey\", i)"
      ],
      "metadata": {
        "colab": {
          "base_uri": "https://localhost:8080/"
        },
        "id": "ZR4lg8XnsSr3",
        "outputId": "14ffbe10-9ff4-4236-f13a-6398a83061c8"
      },
      "execution_count": null,
      "outputs": [
        {
          "output_type": "stream",
          "name": "stdout",
          "text": [
            "hey 2\n",
            "hey 3\n",
            "hey 4\n"
          ]
        }
      ]
    },
    {
      "cell_type": "code",
      "source": [
        "for x in range(3,8):\n",
        "  print(\"hey\", x)"
      ],
      "metadata": {
        "colab": {
          "base_uri": "https://localhost:8080/"
        },
        "id": "m4qfO1eosrIx",
        "outputId": "45fc45ae-fef4-4c1e-ee99-cc88efba8d57"
      },
      "execution_count": null,
      "outputs": [
        {
          "output_type": "stream",
          "name": "stdout",
          "text": [
            "hey 3\n",
            "hey 4\n",
            "hey 5\n",
            "hey 6\n",
            "hey 7\n"
          ]
        }
      ]
    },
    {
      "cell_type": "code",
      "source": [
        "for x in range(8,3,-1):\n",
        "  print(\"hey\", x)"
      ],
      "metadata": {
        "colab": {
          "base_uri": "https://localhost:8080/"
        },
        "id": "aVc1CNHktKrm",
        "outputId": "cfcf539e-7608-4b2a-ec2d-efb225fcd1a9"
      },
      "execution_count": null,
      "outputs": [
        {
          "output_type": "stream",
          "name": "stdout",
          "text": [
            "hey 8\n",
            "hey 7\n",
            "hey 6\n",
            "hey 5\n",
            "hey 4\n"
          ]
        }
      ]
    },
    {
      "cell_type": "code",
      "source": [
        "for i in range(0,21):\n",
        "  print(i)"
      ],
      "metadata": {
        "colab": {
          "base_uri": "https://localhost:8080/"
        },
        "id": "YIFNSDRWtdVl",
        "outputId": "9d78589c-9ada-4e6b-f21e-708460761520"
      },
      "execution_count": null,
      "outputs": [
        {
          "output_type": "stream",
          "name": "stdout",
          "text": [
            "0\n",
            "1\n",
            "2\n",
            "3\n",
            "4\n",
            "5\n",
            "6\n",
            "7\n",
            "8\n",
            "9\n",
            "10\n",
            "11\n",
            "12\n",
            "13\n",
            "14\n",
            "15\n",
            "16\n",
            "17\n",
            "18\n",
            "19\n",
            "20\n"
          ]
        }
      ]
    },
    {
      "cell_type": "code",
      "source": [
        "for i in range(20,0,-1):\n",
        "  print(i)"
      ],
      "metadata": {
        "colab": {
          "base_uri": "https://localhost:8080/"
        },
        "id": "5tsByZSztqRP",
        "outputId": "9cc91a61-8b62-4fbd-d826-ae946bd66aff"
      },
      "execution_count": null,
      "outputs": [
        {
          "output_type": "stream",
          "name": "stdout",
          "text": [
            "20\n",
            "19\n",
            "18\n",
            "17\n",
            "16\n",
            "15\n",
            "14\n",
            "13\n",
            "12\n",
            "11\n",
            "10\n",
            "9\n",
            "8\n",
            "7\n",
            "6\n",
            "5\n",
            "4\n",
            "3\n",
            "2\n",
            "1\n"
          ]
        }
      ]
    },
    {
      "cell_type": "code",
      "source": [
        "for x in range(2,7):\n",
        "  if(x%2==0):\n",
        "    print(\"even\",x)\n",
        "  else:\n",
        "    print(\"odd\",x)"
      ],
      "metadata": {
        "colab": {
          "base_uri": "https://localhost:8080/"
        },
        "id": "vRQD6thDtvzM",
        "outputId": "cf887b9f-6db1-42d2-f033-b2c56733aaac"
      },
      "execution_count": null,
      "outputs": [
        {
          "output_type": "stream",
          "name": "stdout",
          "text": [
            "even 2\n",
            "odd 3\n",
            "even 4\n",
            "odd 5\n",
            "even 6\n"
          ]
        }
      ]
    },
    {
      "cell_type": "code",
      "source": [
        "for x in range(1,51):\n",
        "  if(x%2==0 and x%4==0):\n",
        "    print(x)"
      ],
      "metadata": {
        "colab": {
          "base_uri": "https://localhost:8080/"
        },
        "id": "xpRF7lpvuhhK",
        "outputId": "b28554ae-d9e7-4548-88c2-7e55f1f4a0dc"
      },
      "execution_count": null,
      "outputs": [
        {
          "output_type": "stream",
          "name": "stdout",
          "text": [
            "4\n",
            "8\n",
            "12\n",
            "16\n",
            "20\n",
            "24\n",
            "28\n",
            "32\n",
            "36\n",
            "40\n",
            "44\n",
            "48\n"
          ]
        }
      ]
    },
    {
      "cell_type": "code",
      "source": [
        "for i  in range(70,81):\n",
        "  if(i%2==0 and i%5==0):\n",
        "    print(i)"
      ],
      "metadata": {
        "colab": {
          "base_uri": "https://localhost:8080/"
        },
        "id": "XgeewbjfvGGl",
        "outputId": "316c58e8-620e-4dc6-9d70-9fc5e9b59721"
      },
      "execution_count": null,
      "outputs": [
        {
          "output_type": "stream",
          "name": "stdout",
          "text": [
            "70\n",
            "80\n"
          ]
        }
      ]
    },
    {
      "cell_type": "code",
      "source": [
        "for x in range(2,9):\n",
        "  amount=0\n",
        "  print(\"before\",amount)\n",
        "  amount=amount+x\n",
        "  print(\"after\",amount)\n",
        "  print(x)"
      ],
      "metadata": {
        "colab": {
          "base_uri": "https://localhost:8080/"
        },
        "id": "T5h4pjYQviqt",
        "outputId": "e3d8f744-0bc4-4ccd-920d-c995d57c9e0e"
      },
      "execution_count": null,
      "outputs": [
        {
          "output_type": "stream",
          "name": "stdout",
          "text": [
            "before 0\n",
            "after 2\n",
            "2\n",
            "before 0\n",
            "after 3\n",
            "3\n",
            "before 0\n",
            "after 4\n",
            "4\n",
            "before 0\n",
            "after 5\n",
            "5\n",
            "before 0\n",
            "after 6\n",
            "6\n",
            "before 0\n",
            "after 7\n",
            "7\n",
            "before 0\n",
            "after 8\n",
            "8\n"
          ]
        }
      ]
    },
    {
      "cell_type": "code",
      "source": [
        "amount=0\n",
        "for x in range(2,9):\n",
        "  print(\"before\",amount)\n",
        "  amount=amount+x\n",
        "  print(\"after\",amount)\n",
        "  print(x)"
      ],
      "metadata": {
        "colab": {
          "base_uri": "https://localhost:8080/"
        },
        "id": "Rucxg2LJwd0L",
        "outputId": "be981eab-f6c7-4393-94d7-eef626e5d0c0"
      },
      "execution_count": null,
      "outputs": [
        {
          "output_type": "stream",
          "name": "stdout",
          "text": [
            "before 0\n",
            "after 2\n",
            "2\n",
            "before 2\n",
            "after 5\n",
            "3\n",
            "before 5\n",
            "after 9\n",
            "4\n",
            "before 9\n",
            "after 14\n",
            "5\n",
            "before 14\n",
            "after 20\n",
            "6\n",
            "before 20\n",
            "after 27\n",
            "7\n",
            "before 27\n",
            "after 35\n",
            "8\n"
          ]
        }
      ]
    },
    {
      "cell_type": "code",
      "source": [
        "sum=0\n",
        "for i in range(90,82,-1):\n",
        "  sum=sum+i\n",
        "print(sum)"
      ],
      "metadata": {
        "colab": {
          "base_uri": "https://localhost:8080/"
        },
        "id": "9r5b0Wa9xhO-",
        "outputId": "4974c164-90e1-4afc-a7a1-525ea3bc3e74"
      },
      "execution_count": null,
      "outputs": [
        {
          "output_type": "stream",
          "name": "stdout",
          "text": [
            "692\n"
          ]
        }
      ]
    },
    {
      "cell_type": "code",
      "source": [
        "sum=0\n",
        "for i in range(15,46):\n",
        "  if(i%2!=0):\n",
        "    sum=sum+i\n",
        "print(sum)"
      ],
      "metadata": {
        "colab": {
          "base_uri": "https://localhost:8080/"
        },
        "id": "L1BTtu2UzdJc",
        "outputId": "d06fe2f0-089f-4ce7-ed39-607e811a13cc"
      },
      "execution_count": null,
      "outputs": [
        {
          "output_type": "stream",
          "name": "stdout",
          "text": [
            "480\n"
          ]
        }
      ]
    },
    {
      "cell_type": "code",
      "source": [
        "count=0\n",
        "for i in range(1,96):\n",
        "  if(i%6==0):\n",
        "    count=count+1\n",
        "    print(count)\n",
        "print(i)"
      ],
      "metadata": {
        "colab": {
          "base_uri": "https://localhost:8080/"
        },
        "id": "ljqB-axnzz6E",
        "outputId": "67b4789c-0e05-4de4-9b39-3e33b1fa4994"
      },
      "execution_count": null,
      "outputs": [
        {
          "output_type": "stream",
          "name": "stdout",
          "text": [
            "1\n",
            "2\n",
            "3\n",
            "4\n",
            "5\n",
            "6\n",
            "7\n",
            "8\n",
            "9\n",
            "10\n",
            "11\n",
            "12\n",
            "13\n",
            "14\n",
            "15\n",
            "95\n"
          ]
        }
      ]
    },
    {
      "cell_type": "code",
      "source": [
        "count=0\n",
        "amount=0\n",
        "\n",
        "for i in range(1, 96):\n",
        "    if(i % 6 == 0):\n",
        "        count=count+1\n",
        "        amount=amount+i\n",
        "\n",
        "print(count, amount)\n"
      ],
      "metadata": {
        "colab": {
          "base_uri": "https://localhost:8080/"
        },
        "id": "faZTH76n0ugo",
        "outputId": "390ebbb4-32e8-491e-b694-0bd4613fde04"
      },
      "execution_count": null,
      "outputs": [
        {
          "output_type": "stream",
          "name": "stdout",
          "text": [
            "15 720\n"
          ]
        }
      ]
    },
    {
      "cell_type": "code",
      "source": [
        "city=\"JAIPUR\"\n",
        "for i in city:\n",
        "  print(i)"
      ],
      "metadata": {
        "colab": {
          "base_uri": "https://localhost:8080/"
        },
        "id": "_hwaB8e81Tps",
        "outputId": "e76253fa-fb08-4baf-a624-927205ebb7f3"
      },
      "execution_count": null,
      "outputs": [
        {
          "output_type": "stream",
          "name": "stdout",
          "text": [
            "J\n",
            "A\n",
            "I\n",
            "P\n",
            "U\n",
            "R\n"
          ]
        }
      ]
    },
    {
      "cell_type": "code",
      "source": [
        "for i in \"JAIPUR\":\n",
        "  print(i)"
      ],
      "metadata": {
        "colab": {
          "base_uri": "https://localhost:8080/"
        },
        "id": "SXC8txFq17mb",
        "outputId": "7ec8981b-028e-4b25-c691-b22b636c868e"
      },
      "execution_count": null,
      "outputs": [
        {
          "output_type": "stream",
          "name": "stdout",
          "text": [
            "J\n",
            "A\n",
            "I\n",
            "P\n",
            "U\n",
            "R\n"
          ]
        }
      ]
    },
    {
      "cell_type": "code",
      "source": [
        "city=\"JAIPUR\"\n",
        "for i in range(0,6):\n",
        "  print(i)"
      ],
      "metadata": {
        "colab": {
          "base_uri": "https://localhost:8080/"
        },
        "id": "lppg83xz2GHP",
        "outputId": "d452446c-32ec-47d3-c112-575d1c946a61"
      },
      "execution_count": null,
      "outputs": [
        {
          "output_type": "stream",
          "name": "stdout",
          "text": [
            "0\n",
            "1\n",
            "2\n",
            "3\n",
            "4\n",
            "5\n"
          ]
        }
      ]
    },
    {
      "cell_type": "code",
      "source": [
        "city=\"JAIPUR\"\n",
        "for i in range(0,6):\n",
        "  print(i, city[i])"
      ],
      "metadata": {
        "colab": {
          "base_uri": "https://localhost:8080/"
        },
        "id": "r5l-NU462hX5",
        "outputId": "c1783a22-8367-46e1-87bd-0783c6027ed6"
      },
      "execution_count": null,
      "outputs": [
        {
          "output_type": "stream",
          "name": "stdout",
          "text": [
            "0 J\n",
            "1 A\n",
            "2 I\n",
            "3 P\n",
            "4 U\n",
            "5 R\n"
          ]
        }
      ]
    },
    {
      "cell_type": "code",
      "source": [
        "x=\"JAIPUR\"\n",
        "for i in range(0,6):\n",
        "  print(i, x[i])"
      ],
      "metadata": {
        "colab": {
          "base_uri": "https://localhost:8080/"
        },
        "id": "h0x4Kf9v2sry",
        "outputId": "6ca2055a-b470-45d5-a669-310bf1b88949"
      },
      "execution_count": null,
      "outputs": [
        {
          "output_type": "stream",
          "name": "stdout",
          "text": [
            "0 J\n",
            "1 A\n",
            "2 I\n",
            "3 P\n",
            "4 U\n",
            "5 R\n"
          ]
        }
      ]
    },
    {
      "cell_type": "code",
      "source": [
        "x=\"JAIPUR\"\n",
        "for i in range(0,6):\n",
        "  if (x[i]=='A' or x[i]=='U'):\n",
        "    print(i)"
      ],
      "metadata": {
        "colab": {
          "base_uri": "https://localhost:8080/"
        },
        "id": "k0SEs6Ud3FoI",
        "outputId": "d6af814a-1107-4402-9949-4671fce923f9"
      },
      "execution_count": null,
      "outputs": [
        {
          "output_type": "stream",
          "name": "stdout",
          "text": [
            "1\n",
            "4\n"
          ]
        }
      ]
    },
    {
      "cell_type": "code",
      "source": [],
      "metadata": {
        "id": "eXUs0fK532_l"
      },
      "execution_count": null,
      "outputs": []
    }
  ]
}